{
 "cells": [
  {
   "cell_type": "markdown",
   "id": "e3034f0d",
   "metadata": {},
   "source": [
    "## DATA INFORMATION\n",
    "The data gives the information about a company XYZ which has offices in four different zones and their sales data for different months.\n",
    "\n",
    "\n"
   ]
  },
  {
   "cell_type": "code",
   "execution_count": 1,
   "id": "3c42589e",
   "metadata": {},
   "outputs": [],
   "source": [
    "import numpy as np\n",
    "import pandas as pd\n",
    "import matplotlib.pyplot as plt\n",
    "import seaborn as sns"
   ]
  },
  {
   "cell_type": "markdown",
   "id": "40acdcd9",
   "metadata": {},
   "source": [
    "## Read data"
   ]
  },
  {
   "cell_type": "code",
   "execution_count": 2,
   "id": "4f6f5fae",
   "metadata": {},
   "outputs": [],
   "source": [
    "dt=pd.read_csv(\"Sales_data_zone_wise.csv\")"
   ]
  },
  {
   "cell_type": "code",
   "execution_count": 3,
   "id": "124b6f78",
   "metadata": {},
   "outputs": [
    {
     "data": {
      "text/html": [
       "<div>\n",
       "<style scoped>\n",
       "    .dataframe tbody tr th:only-of-type {\n",
       "        vertical-align: middle;\n",
       "    }\n",
       "\n",
       "    .dataframe tbody tr th {\n",
       "        vertical-align: top;\n",
       "    }\n",
       "\n",
       "    .dataframe thead th {\n",
       "        text-align: right;\n",
       "    }\n",
       "</style>\n",
       "<table border=\"1\" class=\"dataframe\">\n",
       "  <thead>\n",
       "    <tr style=\"text-align: right;\">\n",
       "      <th></th>\n",
       "      <th>Month</th>\n",
       "      <th>Zone - A</th>\n",
       "      <th>Zone - B</th>\n",
       "      <th>Zone - C</th>\n",
       "      <th>Zone - D</th>\n",
       "    </tr>\n",
       "  </thead>\n",
       "  <tbody>\n",
       "    <tr>\n",
       "      <th>0</th>\n",
       "      <td>Month - 1</td>\n",
       "      <td>1483525</td>\n",
       "      <td>1748451</td>\n",
       "      <td>1523308</td>\n",
       "      <td>2267260</td>\n",
       "    </tr>\n",
       "    <tr>\n",
       "      <th>1</th>\n",
       "      <td>Month - 2</td>\n",
       "      <td>1238428</td>\n",
       "      <td>1707421</td>\n",
       "      <td>2212113</td>\n",
       "      <td>1994341</td>\n",
       "    </tr>\n",
       "    <tr>\n",
       "      <th>2</th>\n",
       "      <td>Month - 3</td>\n",
       "      <td>1860771</td>\n",
       "      <td>2091194</td>\n",
       "      <td>1282374</td>\n",
       "      <td>1241600</td>\n",
       "    </tr>\n",
       "    <tr>\n",
       "      <th>3</th>\n",
       "      <td>Month - 4</td>\n",
       "      <td>1871571</td>\n",
       "      <td>1759617</td>\n",
       "      <td>2290580</td>\n",
       "      <td>2252681</td>\n",
       "    </tr>\n",
       "    <tr>\n",
       "      <th>4</th>\n",
       "      <td>Month - 5</td>\n",
       "      <td>1244922</td>\n",
       "      <td>1606010</td>\n",
       "      <td>1818334</td>\n",
       "      <td>1326062</td>\n",
       "    </tr>\n",
       "  </tbody>\n",
       "</table>\n",
       "</div>"
      ],
      "text/plain": [
       "       Month  Zone - A  Zone - B  Zone - C  Zone - D\n",
       "0  Month - 1   1483525   1748451   1523308   2267260\n",
       "1  Month - 2   1238428   1707421   2212113   1994341\n",
       "2  Month - 3   1860771   2091194   1282374   1241600\n",
       "3  Month - 4   1871571   1759617   2290580   2252681\n",
       "4  Month - 5   1244922   1606010   1818334   1326062"
      ]
     },
     "execution_count": 3,
     "metadata": {},
     "output_type": "execute_result"
    }
   ],
   "source": [
    "dt.head()"
   ]
  },
  {
   "cell_type": "code",
   "execution_count": 4,
   "id": "159a742a",
   "metadata": {},
   "outputs": [
    {
     "data": {
      "text/plain": [
       "(29, 5)"
      ]
     },
     "execution_count": 4,
     "metadata": {},
     "output_type": "execute_result"
    }
   ],
   "source": [
    "dt.shape"
   ]
  },
  {
   "cell_type": "code",
   "execution_count": 5,
   "id": "fa734e11",
   "metadata": {},
   "outputs": [
    {
     "name": "stdout",
     "output_type": "stream",
     "text": [
      "<class 'pandas.core.frame.DataFrame'>\n",
      "RangeIndex: 29 entries, 0 to 28\n",
      "Data columns (total 5 columns):\n",
      " #   Column    Non-Null Count  Dtype \n",
      "---  ------    --------------  ----- \n",
      " 0   Month     29 non-null     object\n",
      " 1   Zone - A  29 non-null     int64 \n",
      " 2   Zone - B  29 non-null     int64 \n",
      " 3   Zone - C  29 non-null     int64 \n",
      " 4   Zone - D  29 non-null     int64 \n",
      "dtypes: int64(4), object(1)\n",
      "memory usage: 1.3+ KB\n"
     ]
    }
   ],
   "source": [
    "\n",
    "dt.info()"
   ]
  },
  {
   "cell_type": "code",
   "execution_count": 6,
   "id": "daf8aa59",
   "metadata": {},
   "outputs": [
    {
     "data": {
      "text/plain": [
       "Month       0\n",
       "Zone - A    0\n",
       "Zone - B    0\n",
       "Zone - C    0\n",
       "Zone - D    0\n",
       "dtype: int64"
      ]
     },
     "execution_count": 6,
     "metadata": {},
     "output_type": "execute_result"
    }
   ],
   "source": [
    "dt.isna().sum()"
   ]
  },
  {
   "cell_type": "markdown",
   "id": "3d78fc01",
   "metadata": {},
   "source": [
    "No null values present in the given data"
   ]
  },
  {
   "cell_type": "code",
   "execution_count": 7,
   "id": "ae6a0ef0",
   "metadata": {},
   "outputs": [
    {
     "data": {
      "text/html": [
       "<div>\n",
       "<style scoped>\n",
       "    .dataframe tbody tr th:only-of-type {\n",
       "        vertical-align: middle;\n",
       "    }\n",
       "\n",
       "    .dataframe tbody tr th {\n",
       "        vertical-align: top;\n",
       "    }\n",
       "\n",
       "    .dataframe thead th {\n",
       "        text-align: right;\n",
       "    }\n",
       "</style>\n",
       "<table border=\"1\" class=\"dataframe\">\n",
       "  <thead>\n",
       "    <tr style=\"text-align: right;\">\n",
       "      <th></th>\n",
       "      <th>Zone - A</th>\n",
       "      <th>Zone - B</th>\n",
       "      <th>Zone - C</th>\n",
       "      <th>Zone - D</th>\n",
       "    </tr>\n",
       "  </thead>\n",
       "  <tbody>\n",
       "    <tr>\n",
       "      <th>count</th>\n",
       "      <td>29.0</td>\n",
       "      <td>29.0</td>\n",
       "      <td>29.0</td>\n",
       "      <td>29.0</td>\n",
       "    </tr>\n",
       "    <tr>\n",
       "      <th>mean</th>\n",
       "      <td>1540493.1</td>\n",
       "      <td>1755559.6</td>\n",
       "      <td>1772871.0</td>\n",
       "      <td>1842926.8</td>\n",
       "    </tr>\n",
       "    <tr>\n",
       "      <th>std</th>\n",
       "      <td>261940.1</td>\n",
       "      <td>168389.9</td>\n",
       "      <td>333193.7</td>\n",
       "      <td>375016.5</td>\n",
       "    </tr>\n",
       "    <tr>\n",
       "      <th>min</th>\n",
       "      <td>1128185.0</td>\n",
       "      <td>1527574.0</td>\n",
       "      <td>1237722.0</td>\n",
       "      <td>1234311.0</td>\n",
       "    </tr>\n",
       "    <tr>\n",
       "      <th>25%</th>\n",
       "      <td>1305972.0</td>\n",
       "      <td>1606010.0</td>\n",
       "      <td>1523308.0</td>\n",
       "      <td>1520406.0</td>\n",
       "    </tr>\n",
       "    <tr>\n",
       "      <th>50%</th>\n",
       "      <td>1534390.0</td>\n",
       "      <td>1740365.0</td>\n",
       "      <td>1767047.0</td>\n",
       "      <td>1854412.0</td>\n",
       "    </tr>\n",
       "    <tr>\n",
       "      <th>75%</th>\n",
       "      <td>1820196.0</td>\n",
       "      <td>1875658.0</td>\n",
       "      <td>2098463.0</td>\n",
       "      <td>2180416.0</td>\n",
       "    </tr>\n",
       "    <tr>\n",
       "      <th>max</th>\n",
       "      <td>2004480.0</td>\n",
       "      <td>2091194.0</td>\n",
       "      <td>2290580.0</td>\n",
       "      <td>2364132.0</td>\n",
       "    </tr>\n",
       "  </tbody>\n",
       "</table>\n",
       "</div>"
      ],
      "text/plain": [
       "        Zone - A   Zone - B   Zone - C   Zone - D\n",
       "count       29.0       29.0       29.0       29.0\n",
       "mean   1540493.1  1755559.6  1772871.0  1842926.8\n",
       "std     261940.1   168389.9   333193.7   375016.5\n",
       "min    1128185.0  1527574.0  1237722.0  1234311.0\n",
       "25%    1305972.0  1606010.0  1523308.0  1520406.0\n",
       "50%    1534390.0  1740365.0  1767047.0  1854412.0\n",
       "75%    1820196.0  1875658.0  2098463.0  2180416.0\n",
       "max    2004480.0  2091194.0  2290580.0  2364132.0"
      ]
     },
     "execution_count": 7,
     "metadata": {},
     "output_type": "execute_result"
    }
   ],
   "source": [
    "dt.describe().round(1)"
   ]
  },
  {
   "cell_type": "code",
   "execution_count": 8,
   "id": "d91fd606",
   "metadata": {},
   "outputs": [
    {
     "data": {
      "image/png": "[encoded data removed]",
      "text/plain": [
       "<Figure size 720x720 with 4 Axes>"
      ]
     },
     "metadata": {
      "needs_background": "light"
     },
     "output_type": "display_data"
    }
   ],
   "source": [
    "fig, axes=plt.subplots(figsize=(10,10))\n",
    "plt.subplot(2,2,1)\n",
    "sns.histplot(x=\"Zone - A\",data=dt)\n",
    "plt.title(\"Zone - A\")\n",
    "\n",
    "plt.subplot(2,2,2)\n",
    "sns.histplot(x=\"Zone - B\",data=dt)\n",
    "plt.title(\"Zone - B\")\n",
    "\n",
    "plt.subplot(2,2,3)\n",
    "sns.histplot(x=\"Zone - C\",data=dt)\n",
    "plt.title(\"Zone - C\")\n",
    "\n",
    "plt.subplot(2,2,4)\n",
    "sns.histplot(x=\"Zone - D\",data=dt)\n",
    "plt.title(\"Zone - D\")\n",
    "plt.show()"
   ]
  },
  {
   "cell_type": "code",
   "execution_count": 9,
   "id": "249c4a3e",
   "metadata": {},
   "outputs": [],
   "source": [
    "import warnings\n",
    "warnings.filterwarnings(action=\"ignore\")"
   ]
  },
  {
   "cell_type": "markdown",
   "id": "9e344dbc",
   "metadata": {},
   "source": [
    "### 1. The mean sales generated by each zone"
   ]
  },
  {
   "cell_type": "code",
   "execution_count": 10,
   "id": "c2d9b6cd",
   "metadata": {},
   "outputs": [
    {
     "data": {
      "text/plain": [
       "Zone - A    1540493.14\n",
       "Zone - B    1755559.59\n",
       "Zone - C    1772871.03\n",
       "Zone - D    1842926.76\n",
       "dtype: float64"
      ]
     },
     "execution_count": 10,
     "metadata": {},
     "output_type": "execute_result"
    }
   ],
   "source": [
    "dt.mean().round(2)"
   ]
  },
  {
   "cell_type": "markdown",
   "id": "b2f74587",
   "metadata": {},
   "source": [
    "Here the highest mean sale is for Zone D and the least mean sale is for Zone A."
   ]
  },
  {
   "cell_type": "markdown",
   "id": "5fc87157",
   "metadata": {},
   "source": [
    "### 2.Total sales generated by all the zones for each month"
   ]
  },
  {
   "cell_type": "code",
   "execution_count": 11,
   "id": "f7c05618",
   "metadata": {},
   "outputs": [
    {
     "data": {
      "text/html": [
       "<div>\n",
       "<style scoped>\n",
       "    .dataframe tbody tr th:only-of-type {\n",
       "        vertical-align: middle;\n",
       "    }\n",
       "\n",
       "    .dataframe tbody tr th {\n",
       "        vertical-align: top;\n",
       "    }\n",
       "\n",
       "    .dataframe thead th {\n",
       "        text-align: right;\n",
       "    }\n",
       "</style>\n",
       "<table border=\"1\" class=\"dataframe\">\n",
       "  <thead>\n",
       "    <tr style=\"text-align: right;\">\n",
       "      <th></th>\n",
       "      <th>Month</th>\n",
       "      <th>Zone - A</th>\n",
       "      <th>Zone - B</th>\n",
       "      <th>Zone - C</th>\n",
       "      <th>Zone - D</th>\n",
       "      <th>Total Sales</th>\n",
       "    </tr>\n",
       "  </thead>\n",
       "  <tbody>\n",
       "    <tr>\n",
       "      <th>0</th>\n",
       "      <td>Month - 1</td>\n",
       "      <td>1483525</td>\n",
       "      <td>1748451</td>\n",
       "      <td>1523308</td>\n",
       "      <td>2267260</td>\n",
       "      <td>7022544</td>\n",
       "    </tr>\n",
       "    <tr>\n",
       "      <th>1</th>\n",
       "      <td>Month - 2</td>\n",
       "      <td>1238428</td>\n",
       "      <td>1707421</td>\n",
       "      <td>2212113</td>\n",
       "      <td>1994341</td>\n",
       "      <td>7152303</td>\n",
       "    </tr>\n",
       "    <tr>\n",
       "      <th>2</th>\n",
       "      <td>Month - 3</td>\n",
       "      <td>1860771</td>\n",
       "      <td>2091194</td>\n",
       "      <td>1282374</td>\n",
       "      <td>1241600</td>\n",
       "      <td>6475939</td>\n",
       "    </tr>\n",
       "    <tr>\n",
       "      <th>3</th>\n",
       "      <td>Month - 4</td>\n",
       "      <td>1871571</td>\n",
       "      <td>1759617</td>\n",
       "      <td>2290580</td>\n",
       "      <td>2252681</td>\n",
       "      <td>8174449</td>\n",
       "    </tr>\n",
       "    <tr>\n",
       "      <th>4</th>\n",
       "      <td>Month - 5</td>\n",
       "      <td>1244922</td>\n",
       "      <td>1606010</td>\n",
       "      <td>1818334</td>\n",
       "      <td>1326062</td>\n",
       "      <td>5995328</td>\n",
       "    </tr>\n",
       "  </tbody>\n",
       "</table>\n",
       "</div>"
      ],
      "text/plain": [
       "       Month  Zone - A  Zone - B  Zone - C  Zone - D  Total Sales\n",
       "0  Month - 1   1483525   1748451   1523308   2267260      7022544\n",
       "1  Month - 2   1238428   1707421   2212113   1994341      7152303\n",
       "2  Month - 3   1860771   2091194   1282374   1241600      6475939\n",
       "3  Month - 4   1871571   1759617   2290580   2252681      8174449\n",
       "4  Month - 5   1244922   1606010   1818334   1326062      5995328"
      ]
     },
     "execution_count": 11,
     "metadata": {},
     "output_type": "execute_result"
    }
   ],
   "source": [
    "dt[\"Total Sales\"]=dt.sum(axis=1)\n",
    "dt.head()\n"
   ]
  },
  {
   "cell_type": "code",
   "execution_count": 12,
   "id": "66cbfbed",
   "metadata": {},
   "outputs": [
    {
     "data": {
      "text/plain": [
       "count         29.0\n",
       "mean     6911850.5\n",
       "std       590891.9\n",
       "min      5925424.0\n",
       "25%      6506659.0\n",
       "50%      7032783.0\n",
       "75%      7155515.0\n",
       "max      8174449.0\n",
       "Name: Total Sales, dtype: float64"
      ]
     },
     "execution_count": 12,
     "metadata": {},
     "output_type": "execute_result"
    }
   ],
   "source": [
    "dt[\"Total Sales\"].describe().round(1)"
   ]
  },
  {
   "cell_type": "markdown",
   "id": "a09e535d",
   "metadata": {},
   "source": [
    "* The mean of the total sale is  6911850.5\n",
    "* The maximum total sale is 8174449.0\n",
    "* The minimum total sale is  5925424.0"
   ]
  },
  {
   "cell_type": "code",
   "execution_count": 13,
   "id": "7e7f47bd",
   "metadata": {},
   "outputs": [
    {
     "data": {
      "image/png": "[encoded data removed]",
      "text/plain": [
       "<Figure size 720x720 with 1 Axes>"
      ]
     },
     "metadata": {
      "needs_background": "light"
     },
     "output_type": "display_data"
    }
   ],
   "source": [
    "plt.figure(figsize=(10,10))\n",
    "sns.kdeplot(dt[\"Zone - A\"],color=\"red\",shade=True,Label=\"Zone A\")\n",
    "sns.kdeplot(dt[\"Zone - B\"],color=\"blue\",shade=True,Label=\"Zone B\")\n",
    "sns.kdeplot(dt[\"Zone - C\"],color=\"green\",shade=True,Label=\"Zone C\")\n",
    "sns.kdeplot(dt[\"Zone - D\"],color=\"yellow\",shade=True,Label=\"Zone D\")\n",
    "plt.legend()\n",
    "plt.xlabel(\"Zones\")\n",
    "plt.show()"
   ]
  },
  {
   "cell_type": "code",
   "execution_count": 14,
   "id": "baeb58bc",
   "metadata": {},
   "outputs": [
    {
     "data": {
      "text/plain": [
       "<AxesSubplot:xlabel='Zone - D', ylabel='Density'>"
      ]
     },
     "execution_count": 14,
     "metadata": {},
     "output_type": "execute_result"
    },
    {
     "data": {
      "image/png": "[encoded data removed]",
      "text/plain": [
       "<Figure size 720x720 with 4 Axes>"
      ]
     },
     "metadata": {
      "needs_background": "light"
     },
     "output_type": "display_data"
    }
   ],
   "source": [
    "fig,axes = plt.subplots(figsize=(10,10))\n",
    "plt.subplot(2,2,1)\n",
    "sns.distplot(dt[\"Zone - A\"])\n",
    "\n",
    "plt.subplot(2,2,2)\n",
    "sns.distplot(dt[\"Zone - B\"])\n",
    "\n",
    "plt.subplot(2,2,3)\n",
    "sns.distplot(dt[\"Zone - C\"])\n",
    "\n",
    "plt.subplot(2,2,4)\n",
    "sns.distplot(dt[\"Zone - D\"])"
   ]
  },
  {
   "cell_type": "markdown",
   "id": "b63af937",
   "metadata": {},
   "source": [
    "We can infer that Zone C is normally distributed as compared to other Zones."
   ]
  },
  {
   "cell_type": "markdown",
   "id": "9b7c27d1",
   "metadata": {},
   "source": [
    "### 3.  Check whether all the zones generate the same amount of sales."
   ]
  },
  {
   "cell_type": "markdown",
   "id": "49f7f483",
   "metadata": {},
   "source": [
    "### Testing the hypothesis\n",
    "### Here we are using One way ANOVA test\n",
    "### H0(Null Hypothesis) = All the zones generate the same amount of sales\n",
    "### H1(Alternate Hypothesis) = All the zones generate different amount of sales"
   ]
  },
  {
   "cell_type": "code",
   "execution_count": 15,
   "id": "18373b51",
   "metadata": {},
   "outputs": [
    {
     "name": "stdout",
     "output_type": "stream",
     "text": [
      "f value is 5.672056106843581\n",
      "p value is 0.0011827601694503335\n",
      "Reject null hypothesis\n"
     ]
    }
   ],
   "source": [
    "# importing library from scipy.stats for oneway anova test\n",
    "from scipy.stats import stats\n",
    "fvalue,pvalue=stats.f_oneway(dt[\"Zone - A\"],dt[\"Zone - B\"],dt[\"Zone - C\"], dt[\"Zone - D\"])\n",
    "print(\"f value is\",fvalue)\n",
    "print(\"p value is\",pvalue)\n",
    "if pvalue<0.05:\n",
    "    print(\"Reject null hypothesis\")\n",
    "else:\n",
    "    print(\"Accept null hypothesis\")"
   ]
  },
  {
   "cell_type": "markdown",
   "id": "e7d0f0e9",
   "metadata": {},
   "source": [
    "#### From this it can be inferred that all the zones generate different amount of sales."
   ]
  }
 ],
 "metadata": {
  "kernelspec": {
   "display_name": "Python 3",
   "language": "python",
   "name": "python3"
  },
  "language_info": {
   "codemirror_mode": {
    "name": "ipython",
    "version": 3
   },
   "file_extension": ".py",
   "mimetype": "text/x-python",
   "name": "python",
   "nbconvert_exporter": "python",
   "pygments_lexer": "ipython3",
   "version": "3.8.8"
  }
 },
 "nbformat": 4,
 "nbformat_minor": 5
}
